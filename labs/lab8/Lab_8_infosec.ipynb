{
 "cells": [
  {
   "cell_type": "code",
   "execution_count": 30,
   "id": "e1943c66",
   "metadata": {},
   "outputs": [],
   "source": [
    "# импортирую необходимые библиотеки\n",
    "import random\n",
    "import string"
   ]
  },
  {
   "cell_type": "code",
   "execution_count": 31,
   "id": "527e3079",
   "metadata": {},
   "outputs": [],
   "source": [
    "# функция для расшифровки и шифрования текста\n",
    "def encrypt_decrypt(text, key):  # на вход подаем исходный текст и ключ к шифрованию\n",
    "    new_text = ''  # заводим строковую переменную для сохранения в нее новой строки\n",
    "    for i in range(len(text)):  # проходимся циклом по каждому элементу исходной строки\n",
    "        new_text += chr(ord(text[i]) ^ ord(key[i % len(key)]))  # шифруем новую строку: добавляем к каждому ее элементу еще один\n",
    "        # какой-то рандомный символ\n",
    "    return new_text  # возвращаем новую строку"
   ]
  },
  {
   "cell_type": "code",
   "execution_count": 32,
   "id": "14bf7624",
   "metadata": {},
   "outputs": [],
   "source": [
    "# функция генерации ключа\n",
    "def generate_key(text):  # на вход подаем исходную строку\n",
    "    key = ''  # завожу строковую переменную для сохранения ключа\n",
    "    for i in range(len(text)):  # проходимся циклом по каждому элементу исходной строки\n",
    "        key += random.choice(string.ascii_letters + string.digits)  # для каждого символа строки генерируем цифру\n",
    "    return key"
   ]
  },
  {
   "cell_type": "code",
   "execution_count": 33,
   "id": "821b5aa7",
   "metadata": {},
   "outputs": [],
   "source": [
    "text1 = 'НаВашисходящийот1204'\n",
    "key = generate_key(text1)\n",
    "encrypted_1 = encrypt_decrypt(text1, key)\n",
    "decrypted_1 = encrypt_decrypt(encrypted_1, key)"
   ]
  },
  {
   "cell_type": "code",
   "execution_count": 34,
   "id": "259247f4",
   "metadata": {},
   "outputs": [],
   "source": [
    "text2 = 'ВСеверныйфилиалБанка'\n",
    "encrypted_2 = encrypt_decrypt(text2, key)\n",
    "decrypted_2 = encrypt_decrypt(encrypted_2, key)"
   ]
  },
  {
   "cell_type": "code",
   "execution_count": 35,
   "id": "254996d9",
   "metadata": {},
   "outputs": [
    {
     "name": "stdout",
     "output_type": "stream",
     "text": [
      "Открытый текст:  НаВашисходящийот1204 \n",
      "Ключ:  soraLwcr9eP12MnG9HIN \n",
      "Шифротекст:  ѮџѠёЄяТзЇёПѸЊѴѐЅ\bzyz \n",
      "Исходный текст:  НаВашисходящийот1204\n"
     ]
    }
   ],
   "source": [
    "print('Открытый текст: ', text1, '\\nКлюч: ', key, '\\nШифротекст: ', encrypted_1, '\\nИсходный текст: ', decrypted_1)"
   ]
  },
  {
   "cell_type": "code",
   "execution_count": 36,
   "id": "43682a3d",
   "metadata": {},
   "outputs": [
    {
     "name": "stdout",
     "output_type": "stream",
     "text": [
      "Открытый текст:  ВСеверныйфилиалБанка \n",
      "Ключ:  soraLwcr9eP12MnG9HIN \n",
      "Шифротекст:  ѡючѓѹзўйЀСѨЊЊѽѕіЉѵѳѾ \n",
      "Исходный текст:  ВСеверныйфилиалБанка\n"
     ]
    }
   ],
   "source": [
    "print('Открытый текст: ', text2, '\\nКлюч: ', key, '\\nШифротекст: ', encrypted_2, '\\nИсходный текст: ', decrypted_2)"
   ]
  },
  {
   "cell_type": "code",
   "execution_count": 37,
   "id": "216b0707",
   "metadata": {},
   "outputs": [
    {
     "name": "stdout",
     "output_type": "stream",
     "text": [
      "Расшифровка второго текста при известном первом:  ВСеверныйфилиалБанка\n",
      "Расшифровка первого текста при известном втором:  НаВашисходящийот1204\n"
     ]
    }
   ],
   "source": [
    "r = encrypt_decrypt(encrypted_2, encrypted_1)  # C1^C2\n",
    "print('Расшифровка второго текста при известном первом: ', encrypt_decrypt(text1, r))\n",
    "print('Расшифровка первого текста при известном втором: ', encrypt_decrypt(text2, r))"
   ]
  },
  {
   "cell_type": "code",
   "execution_count": null,
   "id": "3ed0d161",
   "metadata": {},
   "outputs": [],
   "source": []
  }
 ],
 "metadata": {
  "kernelspec": {
   "display_name": "Python 3 (ipykernel)",
   "language": "python",
   "name": "python3"
  },
  "language_info": {
   "codemirror_mode": {
    "name": "ipython",
    "version": 3
   },
   "file_extension": ".py",
   "mimetype": "text/x-python",
   "name": "python",
   "nbconvert_exporter": "python",
   "pygments_lexer": "ipython3",
   "version": "3.11.4"
  }
 },
 "nbformat": 4,
 "nbformat_minor": 5
}
